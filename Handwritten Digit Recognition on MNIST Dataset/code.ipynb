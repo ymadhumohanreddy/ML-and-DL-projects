{
 "cells": [
  {
   "cell_type": "code",
   "execution_count": null,
   "metadata": {},
   "outputs": [],
   "source": [
    "import numpy as np\n",
    "import matplotlib.pyplot as plt\n",
    "import keras\n",
    "from keras.datasets import mnist\n",
    "from keras.models import Sequential\n",
    "from keras.layers import Dense, Conv2D, MaxPool2D, Flatten, Dropout\n"
   ]
  },
  {
   "cell_type": "markdown",
   "metadata": {},
   "source": [
    "## Getting the data and preprocessing it\n"
   ]
  },
  {
   "cell_type": "code",
   "execution_count": null,
   "metadata": {},
   "outputs": [],
   "source": [
    "(X_train, Y_train),(X_test, Y_test) = mnist.load_data()"
   ]
  },
  {
   "cell_type": "code",
   "execution_count": null,
   "metadata": {},
   "outputs": [],
   "source": [
    "X_train.shape, X_test.shape, Y_train.shape, Y_test.shape"
   ]
  },
  {
   "cell_type": "code",
   "execution_count": null,
   "metadata": {},
   "outputs": [],
   "source": [
    "def plot_input_img(i):\n",
    "    plt.imshow(X_train[i], cmap='binary')\n",
    "    plt.title(Y_train[i])\n",
    "    plt.show()"
   ]
  },
  {
   "cell_type": "code",
   "execution_count": null,
   "metadata": {},
   "outputs": [],
   "source": [
    "for i in range(10):\n",
    "    plot_input_img(10)"
   ]
  },
  {
   "cell_type": "code",
   "execution_count": null,
   "metadata": {},
   "outputs": [],
   "source": [
    "# Pre processing image\n",
    "X_train = X_train.astype(np.float32)/255  # Normalizing the image to [0,1] range\n",
    "X_test = X_test.astype(np.float32)/255\n",
    "\n",
    "# Reshaping/Expanding the dimensions of images to (28, 28, 1)\n",
    "X_train = np.expand_dims(X_train, -1)\n",
    "X_test = np.expand_dims(X_test, -1)\n",
    "\n",
    "\n"
   ]
  },
  {
   "cell_type": "code",
   "execution_count": null,
   "metadata": {},
   "outputs": [],
   "source": [
    "X_train.shape"
   ]
  },
  {
   "cell_type": "code",
   "execution_count": null,
   "metadata": {},
   "outputs": [],
   "source": [
    "# Converts classes to one hot vectors\n",
    "Y_train = keras.utils.to_categorical(Y_train) \n",
    "Y_test = keras.utils.to_categorical(Y_test)"
   ]
  },
  {
   "cell_type": "code",
   "execution_count": null,
   "metadata": {},
   "outputs": [],
   "source": [
    "model = Sequential()\n",
    "model.add(Conv2D(32, (3,3), input_shape = (28,28,1), activation = 'relu'))\n",
    "model.add(MaxPool2D((2,2)))\n",
    "\n",
    "model.add(Conv2D(64, (3,3), activation = 'relu'))\n",
    "model.add(MaxPool2D((2,2)))\n",
    "\n",
    "model.add(Flatten())\n",
    "model.add(Dropout(0.5))\n",
    "\n",
    "model.add(Dense(10, activation='softmax'))"
   ]
  },
  {
   "cell_type": "code",
   "execution_count": null,
   "metadata": {},
   "outputs": [],
   "source": [
    "model.summary()"
   ]
  },
  {
   "cell_type": "code",
   "execution_count": 14,
   "metadata": {},
   "outputs": [],
   "source": [
    "model.compile(optimizer='adam', loss = keras.losses.categorical_crossentropy, metrics=['accuracy'])"
   ]
  },
  {
   "cell_type": "code",
   "execution_count": 16,
   "metadata": {},
   "outputs": [],
   "source": [
    "# Callbacks\n",
    "from keras.callbacks import EarlyStopping, ModelCheckpoint\n",
    "\n",
    "#Earlystopping\n",
    "es = EarlyStopping(monitor = 'val_acc', min_delta = 0.01, patience = 4, verbose = 1)\n",
    "\n",
    "# Model Check Point\n",
    "mc = ModelCheckpoint(\"./bestmodel.h5\", monitor='val_acc', verbose=1, save_best_only=True)"
   ]
  },
  {
   "cell_type": "code",
   "execution_count": null,
   "metadata": {},
   "outputs": [],
   "source": [
    "cb = [es,mc]"
   ]
  },
  {
   "cell_type": "markdown",
   "metadata": {},
   "source": [
    "## Training our Model"
   ]
  },
  {
   "cell_type": "code",
   "execution_count": 17,
   "metadata": {},
   "outputs": [
    {
     "name": "stdout",
     "output_type": "stream",
     "text": [
      "Epoch 1/50\n",
      "1313/1313 [==============================] - 17s 12ms/step - loss: 0.2611 - accuracy: 0.9180 - val_loss: 0.0882 - val_accuracy: 0.9733\n",
      "Epoch 2/50\n",
      "1313/1313 [==============================] - 16s 12ms/step - loss: 0.0970 - accuracy: 0.9696 - val_loss: 0.0695 - val_accuracy: 0.9782\n",
      "Epoch 3/50\n",
      "1313/1313 [==============================] - 16s 12ms/step - loss: 0.0751 - accuracy: 0.9771 - val_loss: 0.0541 - val_accuracy: 0.9828\n",
      "Epoch 4/50\n",
      "1313/1313 [==============================] - 16s 12ms/step - loss: 0.0630 - accuracy: 0.9802 - val_loss: 0.0460 - val_accuracy: 0.9856\n",
      "Epoch 5/50\n",
      "1313/1313 [==============================] - 19s 14ms/step - loss: 0.0558 - accuracy: 0.9824 - val_loss: 0.0415 - val_accuracy: 0.9871\n",
      "Epoch 6/50\n",
      "1313/1313 [==============================] - 18s 14ms/step - loss: 0.0502 - accuracy: 0.9836 - val_loss: 0.0411 - val_accuracy: 0.9868\n",
      "Epoch 7/50\n",
      "1313/1313 [==============================] - 26s 20ms/step - loss: 0.0458 - accuracy: 0.9850 - val_loss: 0.0416 - val_accuracy: 0.9874\n",
      "Epoch 8/50\n",
      "1313/1313 [==============================] - 27s 21ms/step - loss: 0.0426 - accuracy: 0.9862 - val_loss: 0.0424 - val_accuracy: 0.9872\n",
      "Epoch 9/50\n",
      "1313/1313 [==============================] - 35s 27ms/step - loss: 0.0393 - accuracy: 0.9874 - val_loss: 0.0394 - val_accuracy: 0.9887\n",
      "Epoch 10/50\n",
      "1313/1313 [==============================] - 21s 16ms/step - loss: 0.0377 - accuracy: 0.9874 - val_loss: 0.0346 - val_accuracy: 0.9894\n",
      "Epoch 11/50\n",
      "1313/1313 [==============================] - 27s 20ms/step - loss: 0.0330 - accuracy: 0.9890 - val_loss: 0.0354 - val_accuracy: 0.9897\n",
      "Epoch 12/50\n",
      "1313/1313 [==============================] - 29s 22ms/step - loss: 0.0334 - accuracy: 0.9889 - val_loss: 0.0347 - val_accuracy: 0.9891\n",
      "Epoch 13/50\n",
      "1313/1313 [==============================] - 29s 22ms/step - loss: 0.0295 - accuracy: 0.9901 - val_loss: 0.0359 - val_accuracy: 0.9896\n",
      "Epoch 14/50\n",
      "1313/1313 [==============================] - 27s 21ms/step - loss: 0.0300 - accuracy: 0.9901 - val_loss: 0.0328 - val_accuracy: 0.9901\n",
      "Epoch 15/50\n",
      "1313/1313 [==============================] - 27s 21ms/step - loss: 0.0298 - accuracy: 0.9906 - val_loss: 0.0306 - val_accuracy: 0.9906\n",
      "Epoch 16/50\n",
      "1313/1313 [==============================] - 28s 21ms/step - loss: 0.0267 - accuracy: 0.9904 - val_loss: 0.0356 - val_accuracy: 0.9897\n",
      "Epoch 17/50\n",
      "1313/1313 [==============================] - 28s 22ms/step - loss: 0.0262 - accuracy: 0.9913 - val_loss: 0.0346 - val_accuracy: 0.9906\n",
      "Epoch 18/50\n",
      "1313/1313 [==============================] - 28s 22ms/step - loss: 0.0261 - accuracy: 0.9911 - val_loss: 0.0376 - val_accuracy: 0.9898\n",
      "Epoch 19/50\n",
      "1313/1313 [==============================] - 28s 21ms/step - loss: 0.0254 - accuracy: 0.9916 - val_loss: 0.0331 - val_accuracy: 0.9904\n",
      "Epoch 20/50\n",
      "1313/1313 [==============================] - 29s 22ms/step - loss: 0.0240 - accuracy: 0.9917 - val_loss: 0.0342 - val_accuracy: 0.9912\n",
      "Epoch 21/50\n",
      "1313/1313 [==============================] - 29s 22ms/step - loss: 0.0215 - accuracy: 0.9925 - val_loss: 0.0369 - val_accuracy: 0.9906\n",
      "Epoch 22/50\n",
      "1313/1313 [==============================] - 27s 21ms/step - loss: 0.0231 - accuracy: 0.9922 - val_loss: 0.0339 - val_accuracy: 0.9909\n",
      "Epoch 23/50\n",
      "1313/1313 [==============================] - 29s 22ms/step - loss: 0.0214 - accuracy: 0.9929 - val_loss: 0.0331 - val_accuracy: 0.9913\n",
      "Epoch 24/50\n",
      "1313/1313 [==============================] - 25s 19ms/step - loss: 0.0218 - accuracy: 0.9923 - val_loss: 0.0360 - val_accuracy: 0.9911\n",
      "Epoch 25/50\n",
      "1313/1313 [==============================] - 20s 16ms/step - loss: 0.0206 - accuracy: 0.9930 - val_loss: 0.0348 - val_accuracy: 0.9908\n",
      "Epoch 26/50\n",
      "1313/1313 [==============================] - 21s 16ms/step - loss: 0.0195 - accuracy: 0.9934 - val_loss: 0.0347 - val_accuracy: 0.9909\n",
      "Epoch 27/50\n",
      "1313/1313 [==============================] - 27s 21ms/step - loss: 0.0201 - accuracy: 0.9931 - val_loss: 0.0387 - val_accuracy: 0.9896\n",
      "Epoch 28/50\n",
      "1313/1313 [==============================] - 21s 16ms/step - loss: 0.0197 - accuracy: 0.9929 - val_loss: 0.0365 - val_accuracy: 0.9908\n",
      "Epoch 29/50\n",
      "1313/1313 [==============================] - 24s 18ms/step - loss: 0.0187 - accuracy: 0.9935 - val_loss: 0.0357 - val_accuracy: 0.9909\n",
      "Epoch 30/50\n",
      "1313/1313 [==============================] - 17s 13ms/step - loss: 0.0181 - accuracy: 0.9940 - val_loss: 0.0371 - val_accuracy: 0.9906\n",
      "Epoch 31/50\n",
      "1313/1313 [==============================] - 17s 13ms/step - loss: 0.0188 - accuracy: 0.9933 - val_loss: 0.0364 - val_accuracy: 0.9911\n",
      "Epoch 32/50\n",
      "1313/1313 [==============================] - 17s 13ms/step - loss: 0.0169 - accuracy: 0.9940 - val_loss: 0.0382 - val_accuracy: 0.9908\n",
      "Epoch 33/50\n",
      "1313/1313 [==============================] - 18s 13ms/step - loss: 0.0172 - accuracy: 0.9942 - val_loss: 0.0374 - val_accuracy: 0.9908\n",
      "Epoch 34/50\n",
      "1313/1313 [==============================] - 17s 13ms/step - loss: 0.0182 - accuracy: 0.9943 - val_loss: 0.0336 - val_accuracy: 0.9908\n",
      "Epoch 35/50\n",
      "1313/1313 [==============================] - 16s 12ms/step - loss: 0.0174 - accuracy: 0.9940 - val_loss: 0.0353 - val_accuracy: 0.9914\n",
      "Epoch 36/50\n",
      "1313/1313 [==============================] - 15s 11ms/step - loss: 0.0169 - accuracy: 0.9940 - val_loss: 0.0380 - val_accuracy: 0.9904\n",
      "Epoch 37/50\n",
      "1313/1313 [==============================] - 15s 11ms/step - loss: 0.0160 - accuracy: 0.9941 - val_loss: 0.0340 - val_accuracy: 0.9913\n",
      "Epoch 38/50\n",
      "1313/1313 [==============================] - 15s 11ms/step - loss: 0.0159 - accuracy: 0.9943 - val_loss: 0.0353 - val_accuracy: 0.9906\n",
      "Epoch 39/50\n",
      "1313/1313 [==============================] - 15s 11ms/step - loss: 0.0169 - accuracy: 0.9941 - val_loss: 0.0343 - val_accuracy: 0.9913\n",
      "Epoch 40/50\n",
      "1313/1313 [==============================] - 15s 11ms/step - loss: 0.0155 - accuracy: 0.9947 - val_loss: 0.0401 - val_accuracy: 0.9906\n",
      "Epoch 41/50\n",
      "1313/1313 [==============================] - 15s 12ms/step - loss: 0.0157 - accuracy: 0.9949 - val_loss: 0.0379 - val_accuracy: 0.9913\n",
      "Epoch 42/50\n",
      "1313/1313 [==============================] - 15s 11ms/step - loss: 0.0135 - accuracy: 0.9954 - val_loss: 0.0374 - val_accuracy: 0.9906\n",
      "Epoch 43/50\n",
      "1313/1313 [==============================] - 15s 11ms/step - loss: 0.0150 - accuracy: 0.9949 - val_loss: 0.0352 - val_accuracy: 0.9913\n",
      "Epoch 44/50\n",
      "1313/1313 [==============================] - 15s 11ms/step - loss: 0.0160 - accuracy: 0.9945 - val_loss: 0.0332 - val_accuracy: 0.9915\n",
      "Epoch 45/50\n",
      "1313/1313 [==============================] - 15s 11ms/step - loss: 0.0152 - accuracy: 0.9948 - val_loss: 0.0353 - val_accuracy: 0.9916\n",
      "Epoch 46/50\n",
      "1313/1313 [==============================] - 15s 12ms/step - loss: 0.0141 - accuracy: 0.9948 - val_loss: 0.0351 - val_accuracy: 0.9917\n",
      "Epoch 47/50\n",
      "1313/1313 [==============================] - 15s 11ms/step - loss: 0.0153 - accuracy: 0.9949 - val_loss: 0.0353 - val_accuracy: 0.9916\n",
      "Epoch 48/50\n",
      "1313/1313 [==============================] - 14s 11ms/step - loss: 0.0146 - accuracy: 0.9948 - val_loss: 0.0365 - val_accuracy: 0.9914\n",
      "Epoch 49/50\n",
      "1313/1313 [==============================] - 15s 11ms/step - loss: 0.0145 - accuracy: 0.9949 - val_loss: 0.0340 - val_accuracy: 0.9922\n",
      "Epoch 50/50\n",
      "1313/1313 [==============================] - 16s 12ms/step - loss: 0.0133 - accuracy: 0.9954 - val_loss: 0.0373 - val_accuracy: 0.9920\n"
     ]
    }
   ],
   "source": [
    "his = model.fit(X_train, Y_train, epochs=50, validation_split=0.3)"
   ]
  },
  {
   "cell_type": "code",
   "execution_count": null,
   "metadata": {},
   "outputs": [],
   "source": [
    "model_S = keras.models.load_model('D:\\\\Computer Science\\\\Projects\\\\ML and Deep Learing Projects\\Handwritten Digit Recognition on MNIST Dataset\\\\bestmmodel.h5')"
   ]
  },
  {
   "cell_type": "code",
   "execution_count": null,
   "metadata": {},
   "outputs": [],
   "source": [
    "score = model_S.evaluate(X_test, Y_test)\n",
    "print(f\" the model accuracy is {score[1]} \")\n"
   ]
  }
 ],
 "metadata": {
  "kernelspec": {
   "display_name": "Python 3.9.12 ('base')",
   "language": "python",
   "name": "python3"
  },
  "language_info": {
   "codemirror_mode": {
    "name": "ipython",
    "version": 3
   },
   "file_extension": ".py",
   "mimetype": "text/x-python",
   "name": "python",
   "nbconvert_exporter": "python",
   "pygments_lexer": "ipython3",
   "version": "3.9.12"
  },
  "orig_nbformat": 4,
  "vscode": {
   "interpreter": {
    "hash": "91a2b9e919f0ae324536cb60d2992e7600ef7a863d730da7704c0273d5cf2cf9"
   }
  }
 },
 "nbformat": 4,
 "nbformat_minor": 2
}
